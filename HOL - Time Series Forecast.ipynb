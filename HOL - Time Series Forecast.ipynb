{
 "metadata": {
  "kernelspec": {
   "display_name": "Streamlit Notebook",
   "name": "streamlit"
  }
 },
 "nbformat_minor": 5,
 "nbformat": 4,
 "cells": [
  {
   "cell_type": "code",
   "id": "3775908f-ca36-4846-8f38-5adca39217f2",
   "metadata": {
    "language": "python",
    "name": "cell1",
    "collapsed": false
   },
   "source": "# Import python packages\nimport streamlit as st\nimport pandas as pd\n\n# We can also use Snowpark for our analyses!\nfrom snowflake.snowpark.context import get_active_session\nsession = get_active_session()\n",
   "execution_count": null,
   "outputs": []
  },
  {
   "cell_type": "code",
   "id": "8d50cbf4-0c8d-4950-86cb-114990437ac9",
   "metadata": {
    "language": "sql",
    "name": "cell2",
    "collapsed": false
   },
   "source": "USE ROLE accountadmin;\n\n-- create a development database for data science work\n--CREATE OR REPLACE DATABASE HOL;\n\n-- use the PUBLIC schema\n\nuse schema HOL.PUBLIC;\n",
   "execution_count": null,
   "outputs": []
  },
  {
   "cell_type": "code",
   "id": "93205167-d99f-446c-98aa-b8700953ae43",
   "metadata": {
    "language": "sql",
    "name": "cell3",
    "collapsed": false
   },
   "outputs": [],
   "source": "-- create csv file format\nCREATE OR REPLACE FILE FORMAT csv_ff\n\tTYPE=CSV\n    SKIP_HEADER=1\n    FIELD_DELIMITER=','\n    TRIM_SPACE=TRUE\n    FIELD_OPTIONALLY_ENCLOSED_BY='\"'\n    REPLACE_INVALID_CHARACTERS=TRUE\n    DATE_FORMAT=AUTO\n    TIME_FORMAT=AUTO\n    TIMESTAMP_FORMAT=AUTO; \n\n-- Create an external stage pointing to s3, to load sales data: \nCREATE OR REPLACE STAGE S3TASTYBYTES_Cortex \nCOMMENT = 'Quickstart S3 Stage Connection'\nurl = 's3://sfquickstarts/frostbyte_tastybytes/mlpf_quickstart/'\nfile_format = csv_ff;\n\n",
   "execution_count": null
  },
  {
   "cell_type": "code",
   "id": "9da5e28c-acb1-4662-b311-3c8b4e3ca93f",
   "metadata": {
    "language": "sql",
    "name": "cell4",
    "collapsed": false
   },
   "outputs": [],
   "source": "-- Define Tasty Byte Sales Table\nCREATE OR REPLACE table sales(\n  \tDATE TIMESTAMP_NTZ,\n\tPRIMARY_CITY VARCHAR,\n\tMENU_ITEM_NAME VARCHAR,\n\tTOTAL_SOLD NUMBER(38,0)\n);\n\n-- Ingest data from s3 into our table\nCOPY INTO sales \nFROM @S3TASTYBYTES_Cortex\nFILES = ('mlpf_quickstart_vancouver_daily_sales.csv') \nFILE_FORMAT = csv_ff\nON_ERROR=CONTINUE ;",
   "execution_count": null
  },
  {
   "cell_type": "code",
   "id": "a4612332-083f-496c-a341-309c43ded51a",
   "metadata": {
    "language": "sql",
    "name": "cell5",
    "collapsed": false
   },
   "outputs": [],
   "source": "-- Create Table containing the latest years worth of sales data: \nCREATE OR REPLACE view sales_forecast_input AS (\n    SELECT\n        to_timestamp_ntz(date) as timestamp,\n        primary_city,\n        menu_item_name,\n        total_sold\n    FROM\n        sales \n    WHERE\n        date > (SELECT max(date) - interval '1 year' FROM sales)\n    GROUP BY\n        all\n);\n",
   "execution_count": null
  },
  {
   "cell_type": "code",
   "id": "83bb6283-08c9-4c1b-b5bf-bcd08b3e3716",
   "metadata": {
    "language": "sql",
    "name": "cell6",
    "collapsed": false
   },
   "outputs": [],
   "source": "CREATE OR REPLACE VIEW lobster_sales AS (\n    SELECT\n        timestamp,\n        total_sold\n    FROM\n        SALES_FORECAST_INPUT\n    WHERE\n        menu_item_name LIKE 'Lobster Mac & Cheese'\n);\n",
   "execution_count": null
  },
  {
   "cell_type": "code",
   "id": "da8a78c9-0196-423c-819e-2bceb160b7b7",
   "metadata": {
    "language": "sql",
    "name": "cell7",
    "collapsed": false
   },
   "outputs": [],
   "source": "CREATE OR REPLACE snowflake.ml.forecast lobstermac_forecast (\n    INPUT_DATA => SYSTEM$REFERENCE('view', 'lobster_sales'),\n    TIMESTAMP_COLNAME => 'timestamp',\n    TARGET_COLNAME => 'total_sold'\n);\n",
   "execution_count": null
  },
  {
   "cell_type": "code",
   "id": "246df3dd-79dc-48ac-acaf-065a167f3ea9",
   "metadata": {
    "language": "sql",
    "name": "cell8",
    "collapsed": false
   },
   "outputs": [],
   "source": "CREATE OR REPLACE TABLE lobstermac_predictions AS (\n    SELECT *\n    FROM TABLE( lobstermac_forecast!FORECAST(30) )\n);\n",
   "execution_count": null
  },
  {
   "cell_type": "code",
   "id": "01d1bd9c-2dc9-4c01-a1be-e8c04f515fd2",
   "metadata": {
    "language": "sql",
    "name": "cell9"
   },
   "outputs": [],
   "source": "CREATE OR REPLACE VIEW lobster_sales2 AS (\n    SELECT TO_DATE(timestamp) AS date, total_sold, NULL as FORECAST, NULL as LOWER_BOUND, NULL AS UPPER_BOUND FROM lobster_sales\n    UNION \n    SELECT TO_DATE(TS) AS date, NULL as total_sold, FORECAST, LOWER_BOUND, UPPER_BOUND from lobstermac_predictions\n    ORDER BY date ASC\n);\n",
   "execution_count": null
  },
  {
   "cell_type": "code",
   "id": "e2aef3f2-29c2-49e7-bf1f-ab279908582b",
   "metadata": {
    "language": "python",
    "name": "cell11",
    "collapsed": false
   },
   "outputs": [],
   "source": "df_test = session.table('lobster_sales2')\nst.line_chart(df_test, x= 'DATE', y= 'TOTAL_SOLD')",
   "execution_count": null
  },
  {
   "cell_type": "code",
   "id": "e1bc7077-f612-499a-9adc-d4903c53d6e2",
   "metadata": {
    "language": "python",
    "name": "cell10",
    "collapsed": false
   },
   "outputs": [],
   "source": "import plotly.express as px\nst.plotly_chart(px.line(df_test, x=\"DATE\" ,y=[\"TOTAL_SOLD\",\"FORECAST\"]), use_container_width=True)",
   "execution_count": null
  }
 ]
}