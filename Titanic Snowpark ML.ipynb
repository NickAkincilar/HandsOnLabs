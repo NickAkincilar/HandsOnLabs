{
 "metadata": {
  "kernelspec": {
   "display_name": "Intro_SnowML",
   "language": "python",
   "name": "python3"
  },
  "language_info": {
   "codemirror_mode": {
    "name": "ipython",
    "version": 3
   },
   "file_extension": ".py",
   "mimetype": "text/x-python",
   "name": "python",
   "nbconvert_exporter": "python",
   "pygments_lexer": "ipython3",
   "version": "3.10.14"
  }
 },
 "nbformat_minor": 2,
 "nbformat": 4,
 "cells": [
  {
   "cell_type": "code",
   "execution_count": 1,
   "metadata": {
    "name": "cell1",
    "language": "python",
    "collapsed": false
   },
   "outputs": [],
   "source": "import ast\nimport json\nimport warnings\n\nimport pandas as pd\nimport snowflake.snowpark.functions as f\nfrom snowflake.ml.modeling.impute import SimpleImputer\nfrom snowflake.ml.modeling.metrics import accuracy_score\nfrom snowflake.ml.modeling.model_selection import GridSearchCV\nfrom snowflake.ml.modeling.preprocessing import OneHotEncoder\nfrom snowflake.ml.modeling.xgboost import XGBClassifier\nfrom snowflake.ml.registry import Registry\nfrom snowflake.ml.utils.connection_params import SnowflakeLoginOptions\nfrom snowflake.snowpark import Session\nfrom snowflake.snowpark import types as T\nfrom snowflake.snowpark.functions import col\n\nwarnings.simplefilter(action=\"ignore\", category=UserWarning)",
   "id": "9d2fbf31-9b4a-4707-afb7-11dee9655f9a"
  },
  {
   "cell_type": "code",
   "execution_count": 2,
   "metadata": {
    "name": "cell2",
    "language": "python",
    "collapsed": false
   },
   "outputs": [],
   "source": "# Create Snowflake Session object\n#connection_parameters = json.load(open('connection.json'))\n#session = Session.builder.configs(connection_parameters).create()\n\nfrom snowflake.snowpark.context import get_active_session\nsession = get_active_session()\n\nsession.sql_simplifier_enabled = True\n\n",
   "id": "c187deb3-458f-4c60-9ae4-1ac1ab66c7d2"
  },
  {
   "cell_type": "code",
   "id": "9fef5669-4adf-433e-83dd-380f67c5f4e6",
   "metadata": {
    "language": "python",
    "name": "cell6",
    "collapsed": false
   },
   "outputs": [],
   "source": "session.sql(\"CREATE DATABASE IF NOT EXISTS SNOWPARK;\").collect()\nsession.sql(\"CREATE SCHEMA IF NOT EXISTS SNOWPARK.TITANIC;\").collect()\n\nsession.use_database(\"SNOWPARK\")\nsession.use_schema(\"TITANIC\")",
   "execution_count": null
  },
  {
   "cell_type": "code",
   "id": "74eebde0-5523-4f5b-9a5f-d6d0437848cc",
   "metadata": {
    "language": "python",
    "name": "cell7",
    "collapsed": false
   },
   "outputs": [],
   "source": "session.sql(\"CREATE STAGE if not exists ML_DATA\").collect()\n\n",
   "execution_count": null
  },
  {
   "cell_type": "code",
   "id": "b69a17ca-e0f6-44e5-acfe-bb2f288841ff",
   "metadata": {
    "language": "sql",
    "name": "cell17"
   },
   "outputs": [],
   "source": "-- UPLOAD THE \"TITANIC.CSV.GZ\" file to @ML_DATA stage via Snowsight UI.",
   "execution_count": null
  },
  {
   "cell_type": "code",
   "id": "c41b35a6-7994-4e3b-aee3-dd0c92877896",
   "metadata": {
    "language": "python",
    "name": "cell23",
    "collapsed": false
   },
   "outputs": [],
   "source": "# Create a Snowpark DataFrame that is configured to load data from the CSV file\ntitanic_df = (\n    session.read.option(\"infer_schema\", True)\n    .option(\"PARSE_HEADER\", True)\n    .csv(\"@ML_DATA/titanic.csv.gz\")\n)# - UPPERCASE all column names to fix any mixed column names\n\n#'@SNOWPARK.TITANIC.ML_DATA/titanic.csv'\n\ntitanic_df.show()",
   "execution_count": null
  },
  {
   "cell_type": "code",
   "id": "3a214507-7cdb-48c9-99a5-8be5aad7e942",
   "metadata": {
    "language": "python",
    "name": "cell48",
    "collapsed": false
   },
   "outputs": [],
   "source": "# - UPPERCASE all column names to fix any mixed column names\nfor Mycol in titanic_df.columns:\n    titanic_df = titanic_df.withColumnRenamed(Mycol, Mycol.upper())",
   "execution_count": null
  },
  {
   "cell_type": "code",
   "id": "f844714c-bd79-43eb-a649-ac67a8c21087",
   "metadata": {
    "language": "python",
    "name": "cell24",
    "collapsed": false
   },
   "outputs": [],
   "source": "def fix_values(column):\n    return f.upper(f.regexp_replace(f.col(column), \"[^a-zA-Z0-9]+\", \"_\"))\n\n\nfor col in [\"SEX\", \"EMBARKED\", \"CLASS\", \"WHO\", \"EMBARK_TOWN\"]:\n    titanic_df = titanic_df.with_column(col, fix_values(col))\n\ntitanic_df.show()",
   "execution_count": null
  },
  {
   "cell_type": "code",
   "id": "d65f61a2-109a-4298-a5cd-bbec20997745",
   "metadata": {
    "language": "python",
    "name": "cell43",
    "collapsed": false
   },
   "outputs": [],
   "source": "titanic_df.write.mode(\"overwrite\").save_as_table(\"titanic\")",
   "execution_count": null
  },
  {
   "cell_type": "code",
   "execution_count": 3,
   "metadata": {
    "name": "cell3",
    "language": "python",
    "collapsed": false
   },
   "outputs": [],
   "source": [
    "titanic_df = session.table(\"titanic\")"
   ],
   "id": "129a7f88-704d-4e11-abd8-bc43249e4b69"
  },
  {
   "cell_type": "code",
   "execution_count": 4,
   "metadata": {
    "name": "cell4",
    "language": "python",
    "collapsed": false
   },
   "outputs": [
    {
     "name": "stdout",
     "output_type": "stream",
     "text": [
      "-------------------------------------------------------------------------------------------------------------------------------------------------------------------\n",
      "|\"SURVIVED\"  |\"PCLASS\"  |\"AGE\"  |\"SIBSP\"  |\"PARCH\"  |\"FARE\"   |\"ADULT_MALE\"  |\"DECK\"  |\"ALIVE\"  |\"ALONE\"  |\"SEX\"   |\"EMBARKED\"  |\"CLASS\"  |\"WHO\"  |\"EMBARK_TOWN\"  |\n",
      "-------------------------------------------------------------------------------------------------------------------------------------------------------------------\n",
      "|0           |3         |22.00  |1        |0        |7.2500   |True          |NULL    |False    |False    |MALE    |S           |THIRD    |MAN    |SOUTHAMPTON    |\n",
      "|1           |1         |38.00  |1        |0        |71.2833  |False         |C       |True     |False    |FEMALE  |C           |FIRST    |WOMAN  |CHERBOURG      |\n",
      "|1           |3         |26.00  |0        |0        |7.9250   |False         |NULL    |True     |True     |FEMALE  |S           |THIRD    |WOMAN  |SOUTHAMPTON    |\n",
      "|1           |1         |35.00  |1        |0        |53.1000  |False         |C       |True     |False    |FEMALE  |S           |FIRST    |WOMAN  |SOUTHAMPTON    |\n",
      "|0           |3         |35.00  |0        |0        |8.0500   |True          |NULL    |False    |True     |MALE    |S           |THIRD    |MAN    |SOUTHAMPTON    |\n",
      "|0           |3         |NULL   |0        |0        |8.4583   |True          |NULL    |False    |True     |MALE    |Q           |THIRD    |MAN    |QUEENSTOWN     |\n",
      "|0           |1         |54.00  |0        |0        |51.8625  |True          |E       |False    |True     |MALE    |S           |FIRST    |MAN    |SOUTHAMPTON    |\n",
      "|0           |3         |2.00   |3        |1        |21.0750  |False         |NULL    |False    |False    |MALE    |S           |THIRD    |CHILD  |SOUTHAMPTON    |\n",
      "|1           |3         |27.00  |0        |2        |11.1333  |False         |NULL    |True     |False    |FEMALE  |S           |THIRD    |WOMAN  |SOUTHAMPTON    |\n",
      "|1           |2         |14.00  |1        |0        |30.0708  |False         |NULL    |True     |False    |FEMALE  |C           |SECOND   |CHILD  |CHERBOURG      |\n",
      "-------------------------------------------------------------------------------------------------------------------------------------------------------------------\n",
      "\n"
     ]
    }
   ],
   "source": [
    "titanic_df.show()"
   ],
   "id": "ae6ee4c6-0a88-4010-9c54-b3f7dedec0c0"
  },
  {
   "cell_type": "code",
   "execution_count": 6,
   "metadata": {
    "name": "DROP_COLS",
    "language": "python",
    "collapsed": false
   },
   "outputs": [],
   "source": [
    "titanic_df = titanic_df.drop(\n",
    "    [\"AGE\", \"DECK\", \"ALIVE\", \"ADULT_MALE\", \"EMBARKED\", \"SEX\", \"PCLASS\", \"ALONE\"]\n",
    ")"
   ],
   "id": "2a68217a-a304-410a-9c6d-536d0750c935"
  },
  {
   "cell_type": "code",
   "execution_count": 7,
   "metadata": {
    "name": "FARE_TO_FLOAT",
    "language": "python",
    "collapsed": false
   },
   "outputs": [
    {
     "name": "stdout",
     "output_type": "stream",
     "text": [
      "------------------------------------------------------------------------------\n",
      "|\"SURVIVED\"  |\"SIBSP\"  |\"PARCH\"  |\"CLASS\"  |\"WHO\"  |\"EMBARK_TOWN\"  |\"FARE\"   |\n",
      "------------------------------------------------------------------------------\n",
      "|0           |1        |0        |THIRD    |MAN    |SOUTHAMPTON    |7.25     |\n",
      "|1           |1        |0        |FIRST    |WOMAN  |CHERBOURG      |71.2833  |\n",
      "|1           |0        |0        |THIRD    |WOMAN  |SOUTHAMPTON    |7.925    |\n",
      "|1           |1        |0        |FIRST    |WOMAN  |SOUTHAMPTON    |53.1     |\n",
      "|0           |0        |0        |THIRD    |MAN    |SOUTHAMPTON    |8.05     |\n",
      "|0           |0        |0        |THIRD    |MAN    |QUEENSTOWN     |8.4583   |\n",
      "|0           |0        |0        |FIRST    |MAN    |SOUTHAMPTON    |51.8625  |\n",
      "|0           |3        |1        |THIRD    |CHILD  |SOUTHAMPTON    |21.075   |\n",
      "|1           |0        |2        |THIRD    |WOMAN  |SOUTHAMPTON    |11.1333  |\n",
      "|1           |1        |0        |SECOND   |CHILD  |CHERBOURG      |30.0708  |\n",
      "------------------------------------------------------------------------------\n",
      "\n"
     ]
    }
   ],
   "source": [
    "titanic_df = titanic_df.withColumn(\"FARE\", titanic_df[\"FARE\"].astype(T.FloatType()))\n",
    "\n",
    "titanic_df.show()"
   ],
   "id": "cb0f4a39-b17f-4046-a74f-cba5d7589248"
  },
  {
   "cell_type": "code",
   "execution_count": 8,
   "metadata": {
    "name": "cell8",
    "language": "python",
    "collapsed": false
   },
   "outputs": [],
   "source": [
    "cat_cols = [\"CLASS\", \"WHO\", \"EMBARK_TOWN\"]\n",
    "num_cols = [\"SIBSP\", \"PARCH\", \"FARE\"]"
   ],
   "id": "884cf977-4edb-4838-aa82-7b654ccb6490"
  },
  {
   "cell_type": "code",
   "execution_count": 9,
   "metadata": {
    "name": "cell9",
    "language": "python",
    "collapsed": false
   },
   "outputs": [
    {
     "name": "stdout",
     "output_type": "stream",
     "text": [
      "------------------------------------------------------------------------------\n",
      "|\"CLASS\"  |\"WHO\"  |\"EMBARK_TOWN\"  |\"SURVIVED\"  |\"SIBSP\"  |\"PARCH\"  |\"FARE\"   |\n",
      "------------------------------------------------------------------------------\n",
      "|THIRD    |MAN    |SOUTHAMPTON    |0           |1        |0        |7.25     |\n",
      "|FIRST    |WOMAN  |CHERBOURG      |1           |1        |0        |71.2833  |\n",
      "|THIRD    |WOMAN  |SOUTHAMPTON    |1           |0        |0        |7.925    |\n",
      "|FIRST    |WOMAN  |SOUTHAMPTON    |1           |1        |0        |53.1     |\n",
      "|THIRD    |MAN    |SOUTHAMPTON    |0           |0        |0        |8.05     |\n",
      "|THIRD    |MAN    |QUEENSTOWN     |0           |0        |0        |8.4583   |\n",
      "|FIRST    |MAN    |SOUTHAMPTON    |0           |0        |0        |51.8625  |\n",
      "|THIRD    |CHILD  |SOUTHAMPTON    |0           |3        |1        |21.075   |\n",
      "|THIRD    |WOMAN  |SOUTHAMPTON    |1           |0        |2        |11.1333  |\n",
      "|SECOND   |CHILD  |CHERBOURG      |1           |1        |0        |30.0708  |\n",
      "------------------------------------------------------------------------------\n",
      "\n"
     ]
    }
   ],
   "source": [
    "impute_cat = SimpleImputer(\n",
    "    input_cols=cat_cols,\n",
    "    output_cols=cat_cols,\n",
    "    strategy=\"most_frequent\",\n",
    "    drop_input_cols=True,\n",
    ")\n",
    "\n",
    "titanic_df = impute_cat.fit(titanic_df).transform(titanic_df)\n",
    "titanic_df.show()"
   ],
   "id": "037a9141-4415-4a67-815a-fbd00ce88b0e"
  },
  {
   "cell_type": "code",
   "execution_count": 10,
   "metadata": {
    "name": "cell10",
    "language": "python",
    "collapsed": false
   },
   "outputs": [
    {
     "name": "stdout",
     "output_type": "stream",
     "text": [
      "--------------------------------------------------------------------------------------------------------------------------------------------------------------\n",
      "|\"CLASS_SECOND\"  |\"CLASS_THIRD\"  |\"WHO_MAN\"  |\"WHO_WOMAN\"  |\"EMBARK_TOWN_QUEENSTOWN\"  |\"EMBARK_TOWN_SOUTHAMPTON\"  |\"SURVIVED\"  |\"SIBSP\"  |\"PARCH\"  |\"FARE\"   |\n",
      "--------------------------------------------------------------------------------------------------------------------------------------------------------------\n",
      "|0.0             |1.0            |1.0        |0.0          |0.0                       |1.0                        |0           |1        |0        |7.25     |\n",
      "|0.0             |0.0            |0.0        |1.0          |0.0                       |0.0                        |1           |1        |0        |71.2833  |\n",
      "|0.0             |1.0            |0.0        |1.0          |0.0                       |1.0                        |1           |0        |0        |7.925    |\n",
      "|0.0             |0.0            |0.0        |1.0          |0.0                       |1.0                        |1           |1        |0        |53.1     |\n",
      "|0.0             |1.0            |1.0        |0.0          |0.0                       |1.0                        |0           |0        |0        |8.05     |\n",
      "|0.0             |1.0            |1.0        |0.0          |1.0                       |0.0                        |0           |0        |0        |8.4583   |\n",
      "|0.0             |0.0            |1.0        |0.0          |0.0                       |1.0                        |0           |0        |0        |51.8625  |\n",
      "|0.0             |1.0            |0.0        |0.0          |0.0                       |1.0                        |0           |3        |1        |21.075   |\n",
      "|0.0             |1.0            |0.0        |1.0          |0.0                       |1.0                        |1           |0        |2        |11.1333  |\n",
      "|1.0             |0.0            |0.0        |0.0          |0.0                       |0.0                        |1           |1        |0        |30.0708  |\n",
      "--------------------------------------------------------------------------------------------------------------------------------------------------------------\n",
      "\n"
     ]
    }
   ],
   "source": [
    "OHE = OneHotEncoder(\n",
    "    input_cols=cat_cols,\n",
    "    output_cols=cat_cols,\n",
    "    drop_input_cols=True,\n",
    "    drop=\"first\",\n",
    "    handle_unknown=\"ignore\",\n",
    ")\n",
    "\n",
    "titanic_df = OHE.fit(titanic_df).transform(titanic_df)\n",
    "titanic_df.show()"
   ],
   "id": "b972e67e-d52e-4054-b86c-6dbd98a6b93a"
  },
  {
   "cell_type": "code",
   "execution_count": 11,
   "metadata": {
    "name": "cell11",
    "language": "python",
    "collapsed": false
   },
   "outputs": [],
   "source": [
    "train_df, test_df = titanic_df.random_split(weights=[0.8, 0.2], seed=8)"
   ],
   "id": "7605841d-2269-491c-9a45-acee0ddeccda"
  },
  {
   "cell_type": "code",
   "execution_count": 12,
   "metadata": {
    "name": "cell12",
    "language": "python",
    "collapsed": false
   },
   "outputs": [],
   "source": [
    "parameters = {\n",
    "    \"n_estimators\": [100, 200, 300, 400, 500],\n",
    "    \"learning_rate\": [0.1, 0.2, 0.3, 0.4, 0.5],\n",
    "    \"max_depth\": list(range(3, 6, 1)),\n",
    "    \"min_child_weight\": list(range(1, 6, 1)),\n",
    "}"
   ],
   "id": "dc49d385-ae2a-412b-8b68-694b646bb813"
  },
  {
   "cell_type": "code",
   "execution_count": 13,
   "metadata": {
    "name": "cell13",
    "language": "python",
    "collapsed": false
   },
   "outputs": [
    {
     "data": {
      "text/plain": [
       "{'n_estimators': [100, 200, 300, 400, 500],\n",
       " 'learning_rate': [0.1, 0.2, 0.3, 0.4, 0.5],\n",
       " 'max_depth': [3, 4, 5],\n",
       " 'min_child_weight': [1, 2, 3, 4, 5]}"
      ]
     },
     "execution_count": 13,
     "metadata": {},
     "output_type": "execute_result"
    }
   ],
   "source": [
    "parameters"
   ],
   "id": "c72e08f8-a58d-43ec-a62f-b9127512e141"
  },
  {
   "cell_type": "code",
   "execution_count": 14,
   "metadata": {
    "name": "cell14",
    "language": "python",
    "collapsed": false
   },
   "outputs": [
    {
     "data": {
      "text/plain": [
       "[Row(status='Statement executed successfully.')]"
      ]
     },
     "execution_count": 14,
     "metadata": {},
     "output_type": "execute_result"
    }
   ],
   "source": [
    "session.sql(\n",
    "    f\"ALTER WAREHOUSE {session.get_current_warehouse()[1:-1]} SET WAREHOUSE_SIZE=LARGE;\"\n",
    ").collect()"
   ],
   "id": "b5234ee4-a605-425d-92c9-ff2396cb2912"
  },
  {
   "cell_type": "markdown",
   "metadata": {
    "name": "cell15"
   },
   "source": [
    "Data scientists may not have the ability to change the warehouse size.  They will usually have access to a larger warehouse and can easily switch as well using session.use_warehouse('bigger_warehouse')"
   ],
   "id": "97da51dd-4943-4985-b924-ee925e09ca6c"
  },
  {
   "cell_type": "code",
   "execution_count": 15,
   "metadata": {
    "name": "cell16",
    "language": "python",
    "collapsed": false
   },
   "outputs": [
    {
     "name": "stderr",
     "output_type": "stream",
     "text": [
      "Package 'fastparquet' is not installed in the local environment. Your UDF might not work when the package is installed on the server but not on your local environment.\n"
     ]
    },
    {
     "data": {
      "text/plain": [
       "<snowflake.ml.modeling.model_selection.grid_search_cv.GridSearchCV at 0x7f951c2da620>"
      ]
     },
     "execution_count": 15,
     "metadata": {},
     "output_type": "execute_result"
    }
   ],
   "source": [
    "grid_search = GridSearchCV(\n",
    "    estimator=XGBClassifier(),\n",
    "    param_grid=parameters,\n",
    "    n_jobs=-1,\n",
    "    scoring=\"accuracy\",\n",
    "    input_cols=train_df.drop(\"SURVIVED\").columns,\n",
    "    label_cols=\"SURVIVED\",\n",
    "    output_cols=\"PRED_SURVIVED\",\n",
    ")\n",
    "\n",
    "# Train\n",
    "grid_search.fit(train_df)"
   ],
   "id": "5c2f9d69-e48c-4b22-af4f-28595bba4312"
  },
  {
   "cell_type": "code",
   "execution_count": 16,
   "metadata": {
    "name": "SHRINK_WAREHOUSE",
    "language": "python",
    "collapsed": false
   },
   "outputs": [
    {
     "data": {
      "text/plain": [
       "[Row(status='Statement executed successfully.')]"
      ]
     },
     "execution_count": 16,
     "metadata": {},
     "output_type": "execute_result"
    }
   ],
   "source": [
    "session.sql(\n",
    "    f\"ALTER WAREHOUSE {session.get_current_warehouse()[1:-1]} SET WAREHOUSE_SIZE=XSMALL;\"\n",
    ").collect()"
   ],
   "id": "4773c999-aac6-45ee-94a1-c057de187956"
  },
  {
   "cell_type": "code",
   "execution_count": 17,
   "metadata": {
    "name": "cell18",
    "language": "python",
    "collapsed": false
   },
   "outputs": [],
   "source": [
    "result = grid_search.predict(test_df)"
   ],
   "id": "68bbd3e7-229a-48ab-aaee-ef00998e0e67"
  },
  {
   "cell_type": "code",
   "execution_count": 18,
   "metadata": {
    "name": "cell19",
    "language": "python",
    "collapsed": false
   },
   "outputs": [
    {
     "name": "stdout",
     "output_type": "stream",
     "text": [
      "Accuracy: 0.819149\n"
     ]
    }
   ],
   "source": [
    "accuracy = accuracy_score(\n",
    "    df=result, y_true_col_names=\"SURVIVED\", y_pred_col_names=\"PRED_SURVIVED\"\n",
    ")\n",
    "\n",
    "print(f\"Accuracy: {accuracy}\")"
   ],
   "id": "2f7ff4ea-7b17-44bf-ada3-7d0bc598fc0e"
  },
  {
   "cell_type": "code",
   "execution_count": 20,
   "metadata": {
    "name": "Get_Accuracy_Stats",
    "language": "python",
    "collapsed": false
   },
   "outputs": [
    {
     "data": {
      "text/html": [
       "<div>\n",
       "<style scoped>\n",
       "    .dataframe tbody tr th:only-of-type {\n",
       "        vertical-align: middle;\n",
       "    }\n",
       "\n",
       "    .dataframe tbody tr th {\n",
       "        vertical-align: top;\n",
       "    }\n",
       "\n",
       "    .dataframe thead th {\n",
       "        text-align: right;\n",
       "    }\n",
       "</style>\n",
       "<table border=\"1\" class=\"dataframe\">\n",
       "  <thead>\n",
       "    <tr style=\"text-align: right;\">\n",
       "      <th></th>\n",
       "      <th>accuracy</th>\n",
       "      <th>learning_rate</th>\n",
       "      <th>max_depth</th>\n",
       "      <th>min_child_weight</th>\n",
       "      <th>n_estimators</th>\n",
       "    </tr>\n",
       "  </thead>\n",
       "  <tbody>\n",
       "    <tr>\n",
       "      <th>94</th>\n",
       "      <td>0.822148</td>\n",
       "      <td>0.2</td>\n",
       "      <td>3</td>\n",
       "      <td>4</td>\n",
       "      <td>500</td>\n",
       "    </tr>\n",
       "    <tr>\n",
       "      <th>311</th>\n",
       "      <td>0.820760</td>\n",
       "      <td>0.5</td>\n",
       "      <td>3</td>\n",
       "      <td>3</td>\n",
       "      <td>200</td>\n",
       "    </tr>\n",
       "    <tr>\n",
       "      <th>216</th>\n",
       "      <td>0.820760</td>\n",
       "      <td>0.3</td>\n",
       "      <td>5</td>\n",
       "      <td>4</td>\n",
       "      <td>200</td>\n",
       "    </tr>\n",
       "    <tr>\n",
       "      <th>114</th>\n",
       "      <td>0.820750</td>\n",
       "      <td>0.2</td>\n",
       "      <td>4</td>\n",
       "      <td>3</td>\n",
       "      <td>500</td>\n",
       "    </tr>\n",
       "    <tr>\n",
       "      <th>299</th>\n",
       "      <td>0.820740</td>\n",
       "      <td>0.4</td>\n",
       "      <td>5</td>\n",
       "      <td>5</td>\n",
       "      <td>500</td>\n",
       "    </tr>\n",
       "  </tbody>\n",
       "</table>\n",
       "</div>"
      ],
      "text/plain": [
       "     accuracy  learning_rate  max_depth  min_child_weight  n_estimators\n",
       "94   0.822148            0.2          3                 4           500\n",
       "311  0.820760            0.5          3                 3           200\n",
       "216  0.820760            0.3          5                 4           200\n",
       "114  0.820750            0.2          4                 3           500\n",
       "299  0.820740            0.4          5                 5           500"
      ]
     },
     "execution_count": 20,
     "metadata": {},
     "output_type": "execute_result"
    }
   ],
   "source": [
    "# Print each combination of hyperparameters with their accuracy\n",
    "results = grid_search.to_sklearn().cv_results_\n",
    "data = {\"accuracy\": results[\"mean_test_score\"]}\n",
    "for i, param in enumerate(results[\"params\"]):\n",
    "    for key, value in param.items():\n",
    "        if key not in data:\n",
    "            data[key] = [None] * len(results[\"params\"])\n",
    "        data[key][i] = value\n",
    "\n",
    "# Create DataFrame\n",
    "hp_df = pd.DataFrame(data).sort_values(by=\"accuracy\", ascending=False)\n",
    "hp_df.head()"
   ],
   "id": "acda439f-66d3-41cd-b65d-0089b84c1a2c"
  },
  {
   "cell_type": "markdown",
   "metadata": {
    "name": "cell21"
   },
   "source": [
    "# Model Registry\n"
   ],
   "id": "419d5297-df97-44a0-8702-a456bf71a44d"
  },
  {
   "cell_type": "code",
   "execution_count": 21,
   "metadata": {
    "name": "cell22",
    "language": "python",
    "collapsed": false
   },
   "outputs": [],
   "source": [
    "optimal_model = grid_search.to_sklearn().best_estimator_"
   ],
   "id": "5a2a44cf-ea2c-4781-9c33-fd19ffefd0d7"
  },
  {
   "cell_type": "code",
   "execution_count": 22,
   "metadata": {
    "name": "ModelVersionCheck",
    "language": "python",
    "collapsed": false
   },
   "outputs": [],
   "source": [
    "# create function to add one to our model versions if it already exists\n",
    "\n",
    "\n",
    "def check_and_update(df, model_name):\n",
    "    if df.empty:\n",
    "        return \"V_1\"\n",
    "    elif df[df[\"name\"] == model_name].empty:\n",
    "        return \"V_1\"\n",
    "    else:\n",
    "        # Increment model_version if df is not a pandas Series\n",
    "        lst = sorted(ast.literal_eval(df[\"versions\"][0]))\n",
    "        last_value = lst[-1]\n",
    "        prefix, num = last_value.rsplit(\"_\", 1)\n",
    "        new_last_value = f\"{prefix}_{int(num)+1}\"\n",
    "        lst[-1] = new_last_value\n",
    "        return new_last_value"
   ],
   "id": "e6cd0e0e-59a0-4f23-ac95-c378a35c5552"
  },
  {
   "cell_type": "code",
   "execution_count": 23,
   "metadata": {
    "name": "Register_Model",
    "language": "python",
    "collapsed": false
   },
   "outputs": [],
   "source": [
    "# Get sample input data to pass into the registry logging function\n",
    "X = train_df.drop(\"SURVIVED\").limit(100)\n",
    "\n",
    "# Create a registry and log the model\n",
    "# You can specify a different DB and Schema if you'd like\n",
    "# otherwise it uses the session context\n",
    "reg = Registry(session=session)\n",
    "\n",
    "reg_df = reg.show_models()\n",
    "\n",
    "# Define model name and version (use uppercase for name)\n",
    "model_name = \"TITANIC\"\n",
    "\n",
    "model_version = check_and_update(reg_df, model_name)\n",
    "\n",
    "titanic_model = reg.log_model(\n",
    "    model_name=model_name,\n",
    "    version_name=model_version,\n",
    "    model=optimal_model,\n",
    "    sample_input_data=X,\n",
    ")\n",
    "\n",
    "# Add evaluation metric\n",
    "titanic_model.set_metric(\n",
    "    metric_name=\"accuracy\",\n",
    "    value=hp_df[\"accuracy\"][0],\n",
    ")"
   ],
   "id": "cfaf34b6-88cc-4673-b8d6-534cdebc24d6"
  },
  {
   "cell_type": "code",
   "execution_count": 24,
   "metadata": {
    "name": "cell25",
    "language": "python",
    "collapsed": false
   },
   "outputs": [
    {
     "data": {
      "text/html": [
       "<div>\n",
       "<style scoped>\n",
       "    .dataframe tbody tr th:only-of-type {\n",
       "        vertical-align: middle;\n",
       "    }\n",
       "\n",
       "    .dataframe tbody tr th {\n",
       "        vertical-align: top;\n",
       "    }\n",
       "\n",
       "    .dataframe thead th {\n",
       "        text-align: right;\n",
       "    }\n",
       "</style>\n",
       "<table border=\"1\" class=\"dataframe\">\n",
       "  <thead>\n",
       "    <tr style=\"text-align: right;\">\n",
       "      <th></th>\n",
       "      <th>created_on</th>\n",
       "      <th>name</th>\n",
       "      <th>database_name</th>\n",
       "      <th>schema_name</th>\n",
       "      <th>comment</th>\n",
       "      <th>owner</th>\n",
       "      <th>default_version_name</th>\n",
       "      <th>versions</th>\n",
       "    </tr>\n",
       "  </thead>\n",
       "  <tbody>\n",
       "    <tr>\n",
       "      <th>0</th>\n",
       "      <td>2024-05-01 11:31:43.738000-04:00</td>\n",
       "      <td>TITANIC</td>\n",
       "      <td>SNOWPARK</td>\n",
       "      <td>TITANIC</td>\n",
       "      <td>None</td>\n",
       "      <td>SYSADMIN</td>\n",
       "      <td>V_1</td>\n",
       "      <td>[\"V_1\"]</td>\n",
       "    </tr>\n",
       "  </tbody>\n",
       "</table>\n",
       "</div>"
      ],
      "text/plain": [
       "                        created_on     name database_name schema_name comment  \\\n",
       "0 2024-05-01 11:31:43.738000-04:00  TITANIC      SNOWPARK     TITANIC    None   \n",
       "\n",
       "      owner default_version_name versions  \n",
       "0  SYSADMIN                  V_1  [\"V_1\"]  "
      ]
     },
     "execution_count": 24,
     "metadata": {},
     "output_type": "execute_result"
    }
   ],
   "source": [
    "reg.show_models()"
   ],
   "id": "732edaac-5381-417d-8c67-493a68283230"
  },
  {
   "cell_type": "code",
   "execution_count": 25,
   "metadata": {
    "name": "cell26",
    "language": "python",
    "collapsed": false
   },
   "outputs": [],
   "source": [
    "hyperparameters = {\n",
    "    k: v for k, v in optimal_model.get_params().items() if v and k != \"missing\"\n",
    "}\n",
    "titanic_model.set_metric(metric_name=\"hyperparameters\", value=hyperparameters)"
   ],
   "id": "cd84d79b-be47-46be-a6d4-b29188051b4c"
  },
  {
   "cell_type": "code",
   "execution_count": 26,
   "metadata": {
    "name": "cell27",
    "language": "python",
    "collapsed": false
   },
   "outputs": [
    {
     "data": {
      "text/html": [
       "<div>\n",
       "<style scoped>\n",
       "    .dataframe tbody tr th:only-of-type {\n",
       "        vertical-align: middle;\n",
       "    }\n",
       "\n",
       "    .dataframe tbody tr th {\n",
       "        vertical-align: top;\n",
       "    }\n",
       "\n",
       "    .dataframe thead th {\n",
       "        text-align: right;\n",
       "    }\n",
       "</style>\n",
       "<table border=\"1\" class=\"dataframe\">\n",
       "  <thead>\n",
       "    <tr style=\"text-align: right;\">\n",
       "      <th></th>\n",
       "      <th>created_on</th>\n",
       "      <th>name</th>\n",
       "      <th>comment</th>\n",
       "      <th>database_name</th>\n",
       "      <th>schema_name</th>\n",
       "      <th>module_name</th>\n",
       "      <th>is_default_version</th>\n",
       "      <th>functions</th>\n",
       "      <th>metadata</th>\n",
       "      <th>user_data</th>\n",
       "    </tr>\n",
       "  </thead>\n",
       "  <tbody>\n",
       "    <tr>\n",
       "      <th>0</th>\n",
       "      <td>2024-05-01 11:31:43.790000-04:00</td>\n",
       "      <td>V_1</td>\n",
       "      <td>None</td>\n",
       "      <td>SNOWPARK</td>\n",
       "      <td>TITANIC</td>\n",
       "      <td>TITANIC</td>\n",
       "      <td>true</td>\n",
       "      <td>[\"PREDICT_PROBA\",\"PREDICT\",\"APPLY\"]</td>\n",
       "      <td>{\"metrics\": {\"accuracy\": 0.8093617021276595, \"hyperparameters\": {\"objective\": \"binary:logistic\", \"learning_rate\": 0.2, \"max_depth\": 3, \"min_child_weight\": 4, \"n_estimators\": 500, \"n_jobs\": 3}}, \"snowpark_ml_schema_version\": \"2024-01-01\"}</td>\n",
       "      <td>{\"snowpark_ml_data\":{\"functions\":[{\"name\":\"APPLY\",\"signature\":{\"inputs\":[{\"name\":\"CLASS_SECOND\",\"type\":\"DOUBLE\"},{\"name\":\"CLASS_THIRD\",\"type\":\"DOUBLE\"},{\"name\":\"WHO_MAN\",\"type\":\"DOUBLE\"},{\"name\":\"WHO_WOMAN\",\"type\":\"DOUBLE\"},{\"name\":\"EMBARK_TOWN_QUEENSTOWN\",\"type\":\"DOUBLE\"},{\"name\":\"EMBARK_TOWN_SOUTHAMPTON\",\"type\":\"DOUBLE\"},{\"name\":\"SIBSP\",\"type\":\"INT8\"},{\"name\":\"PARCH\",\"type\":\"INT8\"},{\"name\":\"FARE\",\"type\":\"DOUBLE\"}],\"outputs\":[{\"name\":\"output_feature_0\",\"type\":\"FLOAT\"},{\"name\":\"output_featur...</td>\n",
       "    </tr>\n",
       "  </tbody>\n",
       "</table>\n",
       "</div>"
      ],
      "text/plain": [
       "                        created_on name comment database_name schema_name  \\\n",
       "0 2024-05-01 11:31:43.790000-04:00  V_1    None      SNOWPARK     TITANIC   \n",
       "\n",
       "  module_name is_default_version                            functions  \\\n",
       "0     TITANIC               true  [\"PREDICT_PROBA\",\"PREDICT\",\"APPLY\"]   \n",
       "\n",
       "                                                                                                                                                                                                                                        metadata  \\\n",
       "0  {\"metrics\": {\"accuracy\": 0.8093617021276595, \"hyperparameters\": {\"objective\": \"binary:logistic\", \"learning_rate\": 0.2, \"max_depth\": 3, \"min_child_weight\": 4, \"n_estimators\": 500, \"n_jobs\": 3}}, \"snowpark_ml_schema_version\": \"2024-01-01\"}   \n",
       "\n",
       "                                                                                                                                                                                                                                                                                                                                                                                                                                                                                                             user_data  \n",
       "0  {\"snowpark_ml_data\":{\"functions\":[{\"name\":\"APPLY\",\"signature\":{\"inputs\":[{\"name\":\"CLASS_SECOND\",\"type\":\"DOUBLE\"},{\"name\":\"CLASS_THIRD\",\"type\":\"DOUBLE\"},{\"name\":\"WHO_MAN\",\"type\":\"DOUBLE\"},{\"name\":\"WHO_WOMAN\",\"type\":\"DOUBLE\"},{\"name\":\"EMBARK_TOWN_QUEENSTOWN\",\"type\":\"DOUBLE\"},{\"name\":\"EMBARK_TOWN_SOUTHAMPTON\",\"type\":\"DOUBLE\"},{\"name\":\"SIBSP\",\"type\":\"INT8\"},{\"name\":\"PARCH\",\"type\":\"INT8\"},{\"name\":\"FARE\",\"type\":\"DOUBLE\"}],\"outputs\":[{\"name\":\"output_feature_0\",\"type\":\"FLOAT\"},{\"name\":\"output_featur...  "
      ]
     },
     "execution_count": 26,
     "metadata": {},
     "output_type": "execute_result"
    }
   ],
   "source": [
    "pd.options.display.max_colwidth = 500\n",
    "reg.get_model(model_name).show_versions()"
   ],
   "id": "1a4e323a-6646-4c8d-86be-782955f7e8d1"
  },
  {
   "cell_type": "markdown",
   "metadata": {
    "name": "cell28"
   },
   "source": [
    "If you have multiple versions of the model, we want the UDF to be deployed as the version with the highest accuracy\n"
   ],
   "id": "7c5a9ace-02be-43a7-b874-34584873f115"
  },
  {
   "cell_type": "code",
   "execution_count": 27,
   "metadata": {
    "name": "cell29",
    "language": "python"
   },
   "outputs": [],
   "source": [
    "reg_df = reg.get_model(model_name).show_versions()\n",
    "reg_df[\"accuracy\"] = reg_df[\"metadata\"].apply(\n",
    "    lambda x: json.loads(x)[\"metrics\"][\"accuracy\"]\n",
    ")\n",
    "best_model = reg_df.sort_values(by=\"accuracy\", ascending=False)"
   ],
   "id": "949acc1e-e6bc-4d30-a0a7-52a2b0e1eecb"
  },
  {
   "cell_type": "code",
   "execution_count": 28,
   "metadata": {
    "name": "cell30",
    "language": "python"
   },
   "outputs": [
    {
     "data": {
      "text/plain": [
       "'V_1'"
      ]
     },
     "execution_count": 28,
     "metadata": {},
     "output_type": "execute_result"
    }
   ],
   "source": [
    "deployed_version = best_model[\"name\"].iloc[0]\n",
    "deployed_version"
   ],
   "id": "3ef4cde8-a5af-4d1d-a759-b16bfdd9070b"
  },
  {
   "cell_type": "markdown",
   "metadata": {
    "name": "cell31"
   },
   "source": [
    "Set the default version to the deployed version (best model)"
   ],
   "id": "9373f9cf-3f22-46df-b5be-121364d4f029"
  },
  {
   "cell_type": "code",
   "execution_count": 29,
   "metadata": {
    "name": "cell32",
    "language": "python"
   },
   "outputs": [
    {
     "data": {
      "text/plain": [
       "'V_1'"
      ]
     },
     "execution_count": 29,
     "metadata": {},
     "output_type": "execute_result"
    }
   ],
   "source": [
    "m = reg.get_model(model_name)\n",
    "m.default = deployed_version\n",
    "mv = m.default\n",
    "mv.version_name"
   ],
   "id": "a872f237-797f-4fdf-adcb-101c5b245de2"
  },
  {
   "cell_type": "code",
   "execution_count": 30,
   "metadata": {
    "name": "cell33",
    "language": "python"
   },
   "outputs": [
    {
     "name": "stdout",
     "output_type": "stream",
     "text": [
      "--------------------------------------------------------------------------------------------------------------------------------------------------------------------------------------------------------------\n",
      "|\"CLASS_SECOND\"  |\"CLASS_THIRD\"  |\"WHO_MAN\"  |\"WHO_WOMAN\"  |\"EMBARK_TOWN_QUEENSTOWN\"  |\"EMBARK_TOWN_SOUTHAMPTON\"  |\"SURVIVED\"  |\"SIBSP\"  |\"PARCH\"  |\"FARE\"    |\"output_feature_0\"     |\"output_feature_1\"    |\n",
      "--------------------------------------------------------------------------------------------------------------------------------------------------------------------------------------------------------------\n",
      "|0.0             |1.0            |1.0        |0.0          |1.0                       |0.0                        |0           |0        |0        |8.4583    |0.9589072465896606     |0.041092731058597565  |\n",
      "|0.0             |0.0            |1.0        |0.0          |0.0                       |1.0                        |0           |0        |0        |51.8625   |0.8610950708389282     |0.13890492916107178   |\n",
      "|0.0             |1.0            |0.0        |0.0          |0.0                       |1.0                        |0           |3        |1        |21.075    |0.8630478382110596     |0.13695217669010162   |\n",
      "|1.0             |0.0            |0.0        |0.0          |0.0                       |0.0                        |1           |1        |0        |30.0708   |0.005812287330627441   |0.9941877126693726    |\n",
      "|0.0             |1.0            |1.0        |0.0          |0.0                       |1.0                        |0           |1        |5        |31.275    |0.8883638978004456     |0.11163610219955444   |\n",
      "|1.0             |0.0            |0.0        |1.0          |0.0                       |1.0                        |1           |0        |0        |16.0      |0.029041707515716553   |0.9709582924842834    |\n",
      "|0.0             |1.0            |0.0        |0.0          |0.0                       |1.0                        |0           |3        |1        |21.075    |0.8630478382110596     |0.13695217669010162   |\n",
      "|0.0             |1.0            |1.0        |0.0          |0.0                       |1.0                        |0           |0        |0        |7.8958    |0.9779325723648072     |0.022067449986934665  |\n",
      "|0.0             |0.0            |0.0        |1.0          |0.0                       |0.0                        |1           |1        |0        |146.5208  |0.0013046860694885254  |0.9986953139305116    |\n",
      "|0.0             |0.0            |1.0        |0.0          |0.0                       |0.0                        |0           |1        |0        |82.1708   |0.3023839592933655     |0.6976160407066345    |\n",
      "--------------------------------------------------------------------------------------------------------------------------------------------------------------------------------------------------------------\n",
      "\n"
     ]
    }
   ],
   "source": [
    "remote_prediction = mv.run(test_df, function_name=\"predict_proba\")\n",
    "remote_prediction.show()"
   ],
   "id": "b9ae708c-a99a-45d2-a3c4-04523d38c6e4"
  },
  {
   "cell_type": "code",
   "execution_count": 31,
   "metadata": {
    "name": "cell34",
    "language": "python"
   },
   "outputs": [],
   "source": [
    "# To test in SQL write test data back to a table\n",
    "\n",
    "test_df.write.mode(\"overwrite\").save_as_table(\"TEST_DATA\")"
   ],
   "id": "60b3a155-8c61-4633-b088-532a162a19cc"
  },
  {
   "cell_type": "markdown",
   "metadata": {
    "name": "cell35"
   },
   "source": [
    "## Add images to stage for Streamlit App\n"
   ],
   "id": "e91c3a08-ea46-4696-a078-b11bb6f44f4f"
  },
  {
   "cell_type": "code",
   "execution_count": 31,
   "metadata": {
    "name": "cell36",
    "language": "python"
   },
   "outputs": [
    {
     "data": {
      "text/plain": [
       "[PutResult(source='floating.webp', target='floating.webp.gz', source_size=205540, target_size=0, source_compression='NONE', target_compression='GZIP', status='SKIPPED', message=''),\n",
       " PutResult(source='flying.webp', target='flying.webp.gz', source_size=77798, target_size=0, source_compression='NONE', target_compression='GZIP', status='SKIPPED', message=''),\n",
       " PutResult(source='sinking.webp', target='sinking.webp.gz', source_size=148802, target_size=0, source_compression='NONE', target_compression='GZIP', status='SKIPPED', message='')]"
      ]
     },
     "execution_count": 31,
     "metadata": {},
     "output_type": "execute_result"
    }
   ],
   "source": [
    "session.file.put(\"../streamlit_images/*\", \"@ML_DATA\")"
   ],
   "id": "1f32a044-f25f-43dd-8042-96ca436f5776"
  },
  {
   "cell_type": "markdown",
   "metadata": {
    "name": "cell37"
   },
   "source": [
    "## Calling Model from SQL "
   ],
   "id": "03d52c08-d21c-4e51-b461-3c366f6f28f4"
  },
  {
   "cell_type": "code",
   "execution_count": 32,
   "metadata": {
    "name": "cell38",
    "language": "python"
   },
   "outputs": [
    {
     "name": "stdout",
     "output_type": "stream",
     "text": [
      "--------------------------------------------------------------------------------------------------------------------------------------------------------------------------\n",
      "|\"CLASS_SECOND\"  |\"CLASS_THIRD\"  |\"WHO_MAN\"  |\"WHO_WOMAN\"  |\"EMBARK_TOWN_QUEENSTOWN\"  |\"EMBARK_TOWN_SOUTHAMPTON\"  |\"SIBSP\"  |\"PARCH\"  |\"FARE\"    |\"SURV_PRED\"            |\n",
      "--------------------------------------------------------------------------------------------------------------------------------------------------------------------------\n",
      "|0.0             |1.0            |1.0        |0.0          |1.0                       |0.0                        |0        |0        |8.4583    |0.9589072465896606     |\n",
      "|0.0             |0.0            |1.0        |0.0          |0.0                       |1.0                        |0        |0        |51.8625   |0.8610950708389282     |\n",
      "|0.0             |1.0            |0.0        |0.0          |0.0                       |1.0                        |3        |1        |21.075    |0.8630478382110596     |\n",
      "|1.0             |0.0            |0.0        |0.0          |0.0                       |0.0                        |1        |0        |30.0708   |0.005812287330627441   |\n",
      "|0.0             |1.0            |1.0        |0.0          |0.0                       |1.0                        |1        |5        |31.275    |0.8883638978004456     |\n",
      "|1.0             |0.0            |0.0        |1.0          |0.0                       |1.0                        |0        |0        |16.0      |0.029041707515716553   |\n",
      "|0.0             |1.0            |0.0        |0.0          |0.0                       |1.0                        |3        |1        |21.075    |0.8630478382110596     |\n",
      "|0.0             |1.0            |1.0        |0.0          |0.0                       |1.0                        |0        |0        |7.8958    |0.9779325723648071     |\n",
      "|0.0             |0.0            |0.0        |1.0          |0.0                       |0.0                        |1        |0        |146.5208  |0.0013046860694885254  |\n",
      "|0.0             |0.0            |1.0        |0.0          |0.0                       |0.0                        |1        |0        |82.1708   |0.3023839592933655     |\n",
      "--------------------------------------------------------------------------------------------------------------------------------------------------------------------------\n",
      "\n"
     ]
    }
   ],
   "source": [
    "#Copy this code in a snowflake worksheet or run via session.sql\n",
    "inference_df = session.sql('''\n",
    "select *, TITANIC!predict_proba(*):output_feature_0\n",
    "as surv_pred\n",
    "from (\n",
    "select * exclude survived\n",
    "from test_data)\n",
    "            ''')\n",
    "inference_df.show()"
   ],
   "id": "15727f43-0865-4318-bbe7-e72ad8d45c29"
  },
  {
   "cell_type": "markdown",
   "metadata": {
    "name": "cell39"
   },
   "source": [
    "# Calling model from a new notebook"
   ],
   "id": "2e279e77-a88b-4e16-9433-6810eb31ff29"
  },
  {
   "cell_type": "code",
   "execution_count": 33,
   "metadata": {
    "name": "cell40",
    "language": "python"
   },
   "outputs": [
    {
     "name": "stdout",
     "output_type": "stream",
     "text": [
      "--------------------------------------------------------------------------------------------------------------------------------------------------------------------------------------\n",
      "|\"CLASS_SECOND\"  |\"CLASS_THIRD\"  |\"WHO_MAN\"  |\"WHO_WOMAN\"  |\"EMBARK_TOWN_QUEENSTOWN\"  |\"EMBARK_TOWN_SOUTHAMPTON\"  |\"SURVIVED\"  |\"SIBSP\"  |\"PARCH\"  |\"FARE\"    |\"PRED_SURVIVED\"       |\n",
      "--------------------------------------------------------------------------------------------------------------------------------------------------------------------------------------\n",
      "|0.0             |1.0            |1.0        |0.0          |1.0                       |0.0                        |0           |0        |0        |8.4583    |0.041092731058597565  |\n",
      "|0.0             |0.0            |1.0        |0.0          |0.0                       |1.0                        |0           |0        |0        |51.8625   |0.13890492916107178   |\n",
      "|0.0             |1.0            |0.0        |0.0          |0.0                       |1.0                        |0           |3        |1        |21.075    |0.13695217669010162   |\n",
      "|1.0             |0.0            |0.0        |0.0          |0.0                       |0.0                        |1           |1        |0        |30.0708   |0.9941877126693726    |\n",
      "|0.0             |1.0            |1.0        |0.0          |0.0                       |1.0                        |0           |1        |5        |31.275    |0.11163610219955444   |\n",
      "|1.0             |0.0            |0.0        |1.0          |0.0                       |1.0                        |1           |0        |0        |16.0      |0.9709582924842834    |\n",
      "|0.0             |1.0            |0.0        |0.0          |0.0                       |1.0                        |0           |3        |1        |21.075    |0.13695217669010162   |\n",
      "|0.0             |1.0            |1.0        |0.0          |0.0                       |1.0                        |0           |0        |0        |7.8958    |0.022067449986934665  |\n",
      "|0.0             |0.0            |0.0        |1.0          |0.0                       |0.0                        |1           |1        |0        |146.5208  |0.9986953139305116    |\n",
      "|0.0             |0.0            |1.0        |0.0          |0.0                       |0.0                        |0           |1        |0        |82.1708   |0.6976160407066345    |\n",
      "--------------------------------------------------------------------------------------------------------------------------------------------------------------------------------------\n",
      "\n"
     ]
    }
   ],
   "source": [
    "# Point to the registry\n",
    "\n",
    "reg = Registry(session=session)\n",
    "\n",
    "# Get the default version of your model (Model with best accuracy in our case)\n",
    "\n",
    "mv = reg.get_model(\"titanic\").default\n",
    "\n",
    "remote_prediction = mv.run(test_df, function_name=\"predict_proba\")\n",
    "remote_prediction.drop('\"output_feature_0\"').with_column_renamed(\n",
    "    '\"output_feature_1\"', \"pred_survived\"\n",
    ").show()"
   ],
   "id": "fae18f03-ae96-4735-88a5-65bdc5ed18a4"
  },
  {
   "cell_type": "markdown",
   "metadata": {
    "name": "cell41"
   },
   "source": [
    "## To delete your model and all of it's versions"
   ],
   "id": "a1b7b2ed-25c8-4301-88ce-bf2b50a9e4da"
  },
  {
   "cell_type": "code",
   "execution_count": 33,
   "metadata": {
    "name": "cell42",
    "language": "python"
   },
   "outputs": [],
   "source": [
    "#reg.delete_model(\"TITANIC\")"
   ],
   "id": "cbf3c499-8301-4631-ab12-1ca887adedc6"
  }
 ]
}