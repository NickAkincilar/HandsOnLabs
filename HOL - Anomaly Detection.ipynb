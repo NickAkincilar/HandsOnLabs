{
 "metadata": {
  "kernelspec": {
   "display_name": "Streamlit Notebook",
   "name": "streamlit"
  }
 },
 "nbformat_minor": 5,
 "nbformat": 4,
 "cells": [
  {
   "cell_type": "markdown",
   "id": "a228dbdb-cf9a-463b-b4b4-e32e5899b54e",
   "metadata": {
    "name": "Intro",
    "collapsed": false
   },
   "source": "# ❄️ Snowflake ML Function: Anomaly Detection Example ❄️"
  },
  {
   "cell_type": "code",
   "id": "1ba731b7-1849-46a1-b08c-b2b26a9a336b",
   "metadata": {
    "language": "python",
    "name": "Libraries",
    "collapsed": false
   },
   "outputs": [],
   "source": "# Streamlit\nimport streamlit as st\nimport pandas as pd\nimport matplotlib.pyplot as plt\n\n# Snowpark\nfrom snowflake.snowpark.context import get_active_session\nsession = get_active_session()",
   "execution_count": null
  },
  {
   "cell_type": "code",
   "id": "aaaef598-c855-4ef4-af21-b8a4c8836e4b",
   "metadata": {
    "language": "sql",
    "name": "cell1",
    "collapsed": false
   },
   "outputs": [],
   "source": "use schema HOL.PUBLIC;",
   "execution_count": null
  },
  {
   "cell_type": "code",
   "id": "7eb005a8-ea8f-431f-ac7d-87e9ac9eec37",
   "metadata": {
    "language": "sql",
    "name": "cell2",
    "collapsed": false
   },
   "outputs": [],
   "source": "-- Create a view containing our training data\nCREATE OR REPLACE VIEW anomaly_training_set AS (\n    SELECT *\n    FROM sales_forecast_input\n    WHERE timestamp < (SELECT MAX(timestamp) FROM sales_forecast_input) - interval '1 Month'\n);\n\n-- Create a view containing the data we want to make inferences on\nCREATE OR REPLACE VIEW anomaly_analysis_set AS (\n    SELECT *\n    FROM sales_forecast_input\n    WHERE timestamp > (SELECT MAX(timestamp) FROM anomaly_training_set)\n);\n",
   "execution_count": null
  },
  {
   "cell_type": "code",
   "id": "d6edefa1-2fc2-4f97-bb56-3eed443a8632",
   "metadata": {
    "language": "sql",
    "name": "ViewTrainingData",
    "collapsed": false
   },
   "outputs": [],
   "source": "SELECT * FROM anomaly_training_set limit 10;",
   "execution_count": null
  },
  {
   "cell_type": "code",
   "id": "5d3b5461-5919-4f38-8b9d-c03b6b4f82fc",
   "metadata": {
    "language": "sql",
    "name": "ExploreData_SQL",
    "collapsed": false
   },
   "outputs": [],
   "source": "SELECT MIN(TIMESTAMP) as Min, MAX(TIMESTAMP) as Max, Count(TIMESTAMP) as Count FROM ANOMALY_TRAINING_SET;",
   "execution_count": null
  },
  {
   "cell_type": "code",
   "id": "763ae560-d6a1-4699-99de-4789d4db274f",
   "metadata": {
    "language": "python",
    "name": "ExploreData_Streamlit",
    "collapsed": false
   },
   "outputs": [],
   "source": "df_test = session.table('ANOMALY_TRAINING_SET')\nst.line_chart(df_test, x= 'TIMESTAMP', y= 'TOTAL_SOLD')",
   "execution_count": null
  },
  {
   "cell_type": "code",
   "id": "5afaea3d-dd5c-45a9-a895-73e4227368c6",
   "metadata": {
    "language": "sql",
    "name": "AlterTrainingData",
    "collapsed": false
   },
   "outputs": [],
   "source": "CREATE OR REPLACE VIEW ANOMALY_TRAINING as\nselect to_timestamp_ntz(TIMESTAMP) as TIMESTAMP,\n    TOTAL_SOLD,\n    MENU_ITEM_NAME\nFROM ANOMALY_TRAINING_SET\nWHERE timestamp > (SELECT MAX(TO_DATE(timestamp)) - interval '2 Months' FROM ANOMALY_TRAINING_SET);",
   "execution_count": null
  },
  {
   "cell_type": "code",
   "id": "dbeb98f8-408a-462b-9c9c-e98059fb06a2",
   "metadata": {
    "language": "sql",
    "name": "CheckNewTrainingData",
    "collapsed": false
   },
   "outputs": [],
   "source": "SELECT MIN(TO_DATE(TIMESTAMP)) as Min_Date, MAX(TO_DATE(TIMESTAMP)) as Max_Date, COUNT(TIMESTAMP) as Count from ANOMALY_TRAINING;",
   "execution_count": null
  },
  {
   "cell_type": "code",
   "id": "8d9ee86d-e4d3-467b-adc2-77e65f17f5fc",
   "metadata": {
    "language": "sql",
    "name": "ValidateTestDataMinTimestamps",
    "collapsed": false
   },
   "outputs": [],
   "source": "SELECT MIN(TO_DATE(TIMESTAMP)) as Min_Date, MAX(TO_DATE(TIMESTAMP)) as Max_Date FROM ANOMALY_ANALYSIS_SET;",
   "execution_count": null
  },
  {
   "cell_type": "code",
   "id": "b79754c1-9c1b-475f-beed-7d7b17189a6f",
   "metadata": {
    "language": "sql",
    "name": "CreateUnsupervisedAnomalyDetectionModel",
    "collapsed": false
   },
   "outputs": [],
   "source": "-- Create the model: UNSUPERVISED method, however can pass labels as well; this could take ~15-25 secs; please be patient \nCREATE OR REPLACE snowflake.ml.anomaly_detection anomaly_model(\n    INPUT_DATA => SYSTEM$REFERENCE('VIEW', 'ANOMALY_TRAINING'),\n    SERIES_COLNAME => 'MENU_ITEM_NAME',\n    TIMESTAMP_COLNAME => 'TIMESTAMP',\n    TARGET_COLNAME => 'TOTAL_SOLD',\n    LABEL_COLNAME => ''\n);",
   "execution_count": null
  },
  {
   "cell_type": "code",
   "id": "593bff0c-60b6-4982-854f-f159e14002fd",
   "metadata": {
    "language": "sql",
    "name": "cell3",
    "collapsed": false
   },
   "outputs": [],
   "source": "CREATE OR REPLACE TABLE anomalies AS \n      SELECT * FROM TABLE( anomaly_model!DETECT_ANOMALIES(\n                                        INPUT_DATA => SYSTEM$REFERENCE('VIEW', 'ANOMALY_ANALYSIS_SET'),\n                                        SERIES_COLNAME => 'MENU_ITEM_NAME',\n                                        TIMESTAMP_COLNAME => 'TIMESTAMP',\n                                        TARGET_COLNAME => 'TOTAL_SOLD',\n                                        CONFIG_OBJECT => {'prediction_interval': 0.95}\n                                    )\n);",
   "execution_count": null
  },
  {
   "cell_type": "code",
   "id": "ce4290e2-9d8f-4c07-8e34-bc852a8fbe4f",
   "metadata": {
    "language": "sql",
    "name": "CallModel_InferenceData",
    "collapsed": false
   },
   "outputs": [],
   "source": "-- Call the model and store the results into table; this could take ~10-20 secs; please be patient\nCALL anomaly_model!DETECT_ANOMALIES(\n    INPUT_DATA => SYSTEM$REFERENCE('VIEW', 'ANOMALY_ANALYSIS_SET'),\n    SERIES_COLNAME => 'MENU_ITEM_NAME',\n    TIMESTAMP_COLNAME => 'TIMESTAMP',\n    TARGET_COLNAME => 'TOTAL_SOLD',\n    CONFIG_OBJECT => {'prediction_interval': 0.95}\n);",
   "execution_count": null
  },
  {
   "cell_type": "code",
   "id": "b9cae6bb-5943-466f-a0fa-70bdecdc5c39",
   "metadata": {
    "language": "python",
    "name": "CreateResultsTable",
    "collapsed": false
   },
   "outputs": [],
   "source": "from snowflake.snowpark.context import get_active_session\nsession = get_active_session()\ncode_to_run = \"\"\"\nBEGIN\n    -- This is the step that creates your predictions.\n    CALL anomaly_model!DETECT_ANOMALIES(\n        INPUT_DATA => SYSTEM$REFERENCE('VIEW', 'ANOMALY_ANALYSIS_SET'),\n        SERIES_COLNAME => 'MENU_ITEM_NAME',\n        TIMESTAMP_COLNAME => 'TIMESTAMP',\n        TARGET_COLNAME => 'TOTAL_SOLD',\n        \n        -- Here we set your prediction interval.\n        CONFIG_OBJECT => {'prediction_interval': 0.95}\n    );\n    -- These steps store your predictions to a table.\n    LET x := SQLID;\n    CREATE OR REPLACE TABLE anomalies AS SELECT * FROM TABLE(RESULT_SCAN(:x));\nEND;\n\"\"\"\ndata = session.sql(code_to_run).collect(block=True);",
   "execution_count": null
  },
  {
   "cell_type": "code",
   "id": "3aca05a4-2df3-468c-a8ba-a7c7ab055bc7",
   "metadata": {
    "language": "sql",
    "name": "Anomalies",
    "collapsed": false
   },
   "outputs": [],
   "source": "select * from anomalies limit 10;",
   "execution_count": null
  },
  {
   "cell_type": "code",
   "id": "29ab07f1-9788-414b-b8ce-071e3f6b3507",
   "metadata": {
    "language": "sql",
    "name": "IdentifyTrends",
    "collapsed": false
   },
   "outputs": [],
   "source": "-- Query to identify trends\nSELECT series, is_anomaly, count(is_anomaly) AS num_records\nFROM anomalies\nWHERE is_anomaly =1\nGROUP BY ALL\nORDER BY num_records DESC\nLIMIT 5;",
   "execution_count": null
  },
  {
   "cell_type": "code",
   "id": "15679aa8-21b7-4f2c-8480-5b6efbaaa320",
   "metadata": {
    "language": "sql",
    "name": "UpdateOriginalData",
    "collapsed": false
   },
   "outputs": [],
   "source": "CREATE OR REPLACE VIEW sales_anomalies AS (\n    SELECT \n        A.TIMESTAMP AS sales_date, \n        A.MENU_ITEM_NAME, \n        A.TOTAL_SOLD, \n        COALESCE(B.IS_ANOMALY, FALSE) AS IS_ANOMALY ,\n        IFF(B.IS_ANOMALY, 20, 0) as ANOMALY_VAL\n    FROM \n        ANOMALY_ANALYSIS_SET A\n    LEFT JOIN \n        anomalies B \n    ON \n        A.MENU_ITEM_NAME = REGEXP_REPLACE(B.SERIES, '[\"]') AND A.TIMESTAMP = B.TS\n    ORDER BY \n        sales_date, \n        MENU_ITEM_NAME\n);",
   "execution_count": null
  },
  {
   "cell_type": "code",
   "id": "ff46c4c1-7582-4a03-b0c6-cfd6bd59cdb2",
   "metadata": {
    "language": "sql",
    "name": "ViewAnomalies",
    "collapsed": false
   },
   "outputs": [],
   "source": "select * from sales_anomalies;",
   "execution_count": null
  },
  {
   "cell_type": "code",
   "id": "b92e527f-a26e-49e4-b928-2db88aba4dc4",
   "metadata": {
    "language": "sql",
    "name": "SalesAnomalyCount",
    "collapsed": false
   },
   "outputs": [],
   "source": "SELECT COUNT(sales_date) as Count, IS_ANOMALY \nFROM sales_anomalies \nGROUP BY IS_ANOMALY;",
   "execution_count": null
  },
  {
   "cell_type": "code",
   "id": "b1977a83-0c54-4819-abbc-744cc47d6bbb",
   "metadata": {
    "language": "sql",
    "name": "cell4",
    "collapsed": false
   },
   "outputs": [],
   "source": "SELECT MENU_ITEM_NAME, count(1) as Anamoly_Count\nFROM sales_anomalies\nWHERE IS_ANOMALY  =1 group by all;",
   "execution_count": null
  },
  {
   "cell_type": "code",
   "id": "c64f33d1-eb8c-4d04-8d60-e0d96f16d374",
   "metadata": {
    "language": "python",
    "name": "ExploreTotal_Sold",
    "collapsed": false
   },
   "outputs": [],
   "source": "df = session.table('sales_anomalies').to_pandas()\n\n# Convert 'SALES_DATE' to datetime if it's not already in datetime format\ndf['SALES_DATE'] = pd.to_datetime(df['SALES_DATE'])\n\n# Calculate cumulative sum of TOTAL_SOLD for each MENU_ITEM_NAME\ndf['cumulative_total_sold'] = df.groupby(['SALES_DATE', 'MENU_ITEM_NAME'])['TOTAL_SOLD'].cumsum()\n\n# Get unique MENU_ITEM_NAME values\nmenu_items = df['MENU_ITEM_NAME'].unique()\n\n# Plotting\nplt.figure(figsize=(12, 8))\n\nfor menu_item in menu_items:\n    plt.plot(df[df['MENU_ITEM_NAME'] == menu_item]['SALES_DATE'], \n             df[df['MENU_ITEM_NAME'] == menu_item]['cumulative_total_sold'], \n             label=menu_item)\n\nplt.xlabel('Date')\nplt.ylabel('Cumulative Total Sold')\nplt.title('Cumulative Total Sold Over Time for Each Menu Item')\nplt.legend(loc='upper center', bbox_to_anchor=(0.5, -0.15), fancybox=True, shadow=True, ncol=5)\nplt.xticks(rotation=45)\nplt.show()",
   "execution_count": null
  },
  {
   "cell_type": "code",
   "id": "d089209a-75c9-46b9-b097-1bbe9beaa4ff",
   "metadata": {
    "language": "python",
    "name": "Explore_Anomalies",
    "collapsed": false
   },
   "outputs": [],
   "source": "df = session.table('sales_anomalies').to_pandas()\n\n# Filter menu items with > 0 cumulative anomalies\nmenu_items = df[df['IS_ANOMALY'] > 0]['MENU_ITEM_NAME'].unique()\n\n# Plotting\nplt.figure(figsize=(12, 8))\n\nfor menu_item in menu_items:\n    df_menu_item = df[df['MENU_ITEM_NAME'] == menu_item]\n    plt.bar(df_menu_item['SALES_DATE'], \n            df_menu_item['IS_ANOMALY'], \n            label=menu_item)\n\nplt.xlabel('Date')\nplt.ylabel('Anomalies')\nplt.title('Anomalies by Menu Item')\nplt.legend(loc='upper center', bbox_to_anchor=(0.5, -0.15), fancybox=True, shadow=True, ncol=5)\nplt.show()",
   "execution_count": null
  },
  {
   "cell_type": "code",
   "id": "c7e7a704-df26-46ac-8d82-9f3a704d19fb",
   "metadata": {
    "language": "python",
    "name": "cell5",
    "collapsed": false
   },
   "outputs": [],
   "source": "import plotly.express as px\nfrom snowflake.snowpark.functions import col\n#session = get_active_session()\ndf = session.table('sales_anomalies')\n\ndf = df.filter(  col(\"MENU_ITEM_NAME\") == \"Italian\") \n\nst.plotly_chart(px.line(df, x=\"SALES_DATE\" ,y=[\"TOTAL_SOLD\", \"ANOMALY_VAL\"]), use_container_width=True)\n\n\n          \n\n\n\n",
   "execution_count": null
  },
  {
   "cell_type": "code",
   "id": "6d7972a1-c224-4bad-a9ee-e515913e4521",
   "metadata": {
    "language": "sql",
    "name": "cell6",
    "collapsed": false
   },
   "outputs": [],
   "source": "SELECT * FROM sales_anomalies where MENU_ITEM_NAME= 'Italian'",
   "execution_count": null
  }
 ]
}